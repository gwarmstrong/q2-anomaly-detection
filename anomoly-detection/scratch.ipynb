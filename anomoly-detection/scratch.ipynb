{
 "cells": [
  {
   "cell_type": "code",
   "execution_count": 8,
   "metadata": {},
   "outputs": [],
   "source": [
    "import pandas as pd\n",
    "%matplotlib inline\n",
    "from matplotlib import pyplot as plt\n",
    "import unifrac\n",
    "import biom\n",
    "from qiime2 import Artifact\n",
    "from skbio import stats\n",
    "import numpy as np"
   ]
  },
  {
   "cell_type": "code",
   "execution_count": 9,
   "metadata": {},
   "outputs": [],
   "source": [
    "distances = pd.read_csv(\"artifact_110218_021021-144748/BIOM/110218/distance-matrix.tsv\", sep=\"\\t\", index_col=0)\n",
    "# distances = pd.read_csv(\"artifact_110218_021021-144748/BIOM/110218/euclidean.tsv\", sep=\"\\t\", index_col=0)\n",
    "distances = distances.replace(0, np.nan)\n",
    "distance_ids = distances.index.to_list()\n",
    "samples = pd.read_csv(\"artifact_110218_021021-144748/BIOM/110218/sample.tsv\", sep=\"\\t\", index_col=0)\n",
    "samples = samples.loc[distance_ids]"
   ]
  },
  {
   "cell_type": "code",
   "execution_count": 10,
   "metadata": {},
   "outputs": [],
   "source": [
    "male = samples.loc[samples[\"host\"] == \"M3\"]\n",
    "male_ids = male.index.to_list()\n",
    "female = samples.loc[samples[\"host\"] == \"F4\"]\n",
    "female_ids = female.index.to_list()"
   ]
  },
  {
   "cell_type": "code",
   "execution_count": 11,
   "metadata": {},
   "outputs": [],
   "source": [
    "samples = samples.loc[(samples[\"env_package\"] == \"human-gut\")]\n",
    "distances = distances.loc[samples.index.to_list()]\n",
    "# male = samples.loc[(samples[\"env_package\"] == \"human-gut\") & (samples[\"host\"] == \"M3\")]\n",
    "male = samples.loc[(samples[\"host\"] == \"M3\")]\n",
    "male_ids = male.index.to_list()\n",
    "# female = samples.loc[(samples[\"env_package\"] == \"human-gut\") & (samples[\"host\"] == \"F4\")]\n",
    "female = samples.loc[(samples[\"host\"] == \"F4\")]\n",
    "female_ids = female.index.to_list()"
   ]
  },
  {
   "cell_type": "code",
   "execution_count": 12,
   "metadata": {},
   "outputs": [
    {
     "name": "stdout",
     "output_type": "stream",
     "text": [
      "131 131 131\n"
     ]
    }
   ],
   "source": [
    "for i in range(1, 2):\n",
    "    k = 131\n",
    "    # step 1\n",
    "    male_dist = distances.loc[male_ids]\n",
    "    di = []\n",
    "    for male_id in male_ids:\n",
    "        di.append(male_dist[male_id].nsmallest(k).mean())\n",
    "\n",
    "    # step 2\n",
    "    d_bar = np.array(di).mean()\n",
    "\n",
    "    # step 3\n",
    "    ri = [di[i]/d_bar for i, d in enumerate(di)]\n",
    "\n",
    "    # step 4\n",
    "    female_dist = distances.loc[female_ids]\n",
    "    dj = []\n",
    "    exclude = distances.index.isin(female_ids)\n",
    "    df = distances[~exclude]\n",
    "    for female_id in female_ids:\n",
    "        dj.append(df[female_id].nsmallest(k).mean())\n",
    "    rj = [dj[i]/d_bar for i, d in enumerate(dj)]\n",
    "\n",
    "    # step 5\n",
    "    total = 0\n",
    "    for f_r in rj:\n",
    "        p = 0\n",
    "        for m_r in ri:\n",
    "            if m_r >= f_r:\n",
    "                p += 1\n",
    "        p /= len(ri)\n",
    "        if p <= 0.05:\n",
    "            total += 1\n",
    "    print(total, k, len(rj))"
   ]
  },
  {
   "cell_type": "code",
   "execution_count": null,
   "metadata": {},
   "outputs": [],
   "source": [
    "samples.loc[samples[\"env_package\"] == \"human-gut\"].shape"
   ]
  },
  {
   "cell_type": "code",
   "execution_count": null,
   "metadata": {},
   "outputs": [],
   "source": [
    "samples.loc[samples[\"env_package\"] == \"human-skin\"].shape"
   ]
  },
  {
   "cell_type": "code",
   "execution_count": null,
   "metadata": {},
   "outputs": [],
   "source": [
    "len(female_ids)"
   ]
  },
  {
   "cell_type": "code",
   "execution_count": null,
   "metadata": {},
   "outputs": [],
   "source": [
    "len(male_ids)"
   ]
  },
  {
   "cell_type": "code",
   "execution_count": null,
   "metadata": {},
   "outputs": [],
   "source": [
    "670 / 1433"
   ]
  },
  {
   "cell_type": "code",
   "execution_count": null,
   "metadata": {},
   "outputs": [],
   "source": [
    "152/534"
   ]
  },
  {
   "cell_type": "code",
   "execution_count": null,
   "metadata": {},
   "outputs": [],
   "source": [
    "distances"
   ]
  },
  {
   "cell_type": "code",
   "execution_count": null,
   "metadata": {},
   "outputs": [],
   "source": [
    "from skbio import diversity"
   ]
  },
  {
   "cell_type": "code",
   "execution_count": null,
   "metadata": {},
   "outputs": [],
   "source": [
    "diversity.get_beta_diversity_metrics()"
   ]
  },
  {
   "cell_type": "code",
   "execution_count": 16,
   "metadata": {},
   "outputs": [],
   "source": [
    "with open(\"artifact_110218_021021-144748/BIOM/110218/ordination.txt\") as f:\n",
    "    points = {}\n",
    "    for line in f.readlines():\n",
    "        info = line.split(\"\\t\")\n",
    "        points[info[0]] = np.array([float(n) for n in info[1:4]])\n"
   ]
  },
  {
   "cell_type": "code",
   "execution_count": 17,
   "metadata": {},
   "outputs": [],
   "source": [
    "with open(\"euclidean.tsv\", \"w\") as f:\n",
    "    ks = list(points.keys())\n",
    "    f.write(\"id\")\n",
    "    for k in ks:\n",
    "        f.write(\"\\t\" + k)\n",
    "    f.write(\"\\n\")\n",
    "    \n",
    "    for k in ks:\n",
    "        f.write(k)\n",
    "        for o in ks:\n",
    "            f.write(\"\\t\" + str(np.linalg.norm(points[k]-points[o])))\n",
    "        f.write(\"\\n\")\n",
    "        "
   ]
  },
  {
   "cell_type": "code",
   "execution_count": null,
   "metadata": {},
   "outputs": [],
   "source": [
    "for k,v in points.items():\n",
    "    print(k,v)\n",
    "    break"
   ]
  },
  {
   "cell_type": "code",
   "execution_count": null,
   "metadata": {},
   "outputs": [],
   "source": [
    "list(points.keys())"
   ]
  },
  {
   "cell_type": "code",
   "execution_count": null,
   "metadata": {},
   "outputs": [],
   "source": [
    "distances.shape"
   ]
  },
  {
   "cell_type": "code",
   "execution_count": null,
   "metadata": {},
   "outputs": [],
   "source": [
    "samples[\"env_package\"].values"
   ]
  },
  {
   "cell_type": "code",
   "execution_count": 15,
   "metadata": {},
   "outputs": [
    {
     "data": {
      "text/plain": [
       "4"
      ]
     },
     "execution_count": 15,
     "metadata": {},
     "output_type": "execute_result"
    }
   ],
   "source": [
    "test = [1,2,3,4,5]\n",
    "test[3]"
   ]
  },
  {
   "cell_type": "code",
   "execution_count": null,
   "metadata": {},
   "outputs": [],
   "source": [
    "dj"
   ]
  },
  {
   "cell_type": "code",
   "execution_count": null,
   "metadata": {},
   "outputs": [],
   "source": [
    "len(female_ids)"
   ]
  },
  {
   "cell_type": "code",
   "execution_count": 7,
   "metadata": {},
   "outputs": [
    {
     "data": {
      "text/plain": [
       "[0.3639579834722596,\n",
       " 0.3824915596658811,\n",
       " 0.38547325313183906,\n",
       " 0.38600311312908825,\n",
       " 0.38740229826382727,\n",
       " 0.3906493097162287,\n",
       " 0.39174618766000713,\n",
       " 0.39207276255620044,\n",
       " 0.39317910709982945,\n",
       " 0.39394054444579807,\n",
       " 0.3949098269639943,\n",
       " 0.3957808842943257,\n",
       " 0.3964415374782581,\n",
       " 0.3964691936059508,\n",
       " 0.39685217988409055,\n",
       " 0.3970006560726116,\n",
       " 0.3994280182143026,\n",
       " 0.39949306524283107,\n",
       " 0.4008668405196062,\n",
       " 0.4023475732619954,\n",
       " 0.4024144196719471,\n",
       " 0.403136619958607,\n",
       " 0.40349345975201223,\n",
       " 0.4036387161886437,\n",
       " 0.4036725407401538,\n",
       " 0.4048224228274308,\n",
       " 0.40530282134470647,\n",
       " 0.4055041117891144,\n",
       " 0.40634349091563937,\n",
       " 0.4063980911634713,\n",
       " 0.40685257110303896,\n",
       " 0.4069250507799875,\n",
       " 0.4071205895189047,\n",
       " 0.40771546865165204,\n",
       " 0.40837311501889945,\n",
       " 0.40873429590542915,\n",
       " 0.40878867232296634,\n",
       " 0.40890453785277586,\n",
       " 0.40990003436825523,\n",
       " 0.4105899603325827,\n",
       " 0.41092516560942904,\n",
       " 0.4118839707193113,\n",
       " 0.41371203328373474,\n",
       " 0.4138285321069873,\n",
       " 0.4154048394580899,\n",
       " 0.41547784915122854,\n",
       " 0.41632878350587693,\n",
       " 0.41713475898632396,\n",
       " 0.4177939652229773,\n",
       " 0.4206362436695531,\n",
       " 0.4215745755144193,\n",
       " 0.42209376223902917,\n",
       " 0.4222788350654131,\n",
       " 0.422333001808174,\n",
       " 0.4230362416588313,\n",
       " 0.42348375396386856,\n",
       " 0.42380034145454176,\n",
       " 0.4250871573077107,\n",
       " 0.42545200512780024,\n",
       " 0.4259603327439482,\n",
       " 0.42612339030738156,\n",
       " 0.4262057153280757,\n",
       " 0.4287868763504627,\n",
       " 0.4290277153213825,\n",
       " 0.42950702539857155,\n",
       " 0.42956150699379325,\n",
       " 0.4301414539536424,\n",
       " 0.4305916398967656,\n",
       " 0.43175520898433595,\n",
       " 0.43186380457939283,\n",
       " 0.4329789388734861,\n",
       " 0.43365477894252186,\n",
       " 0.43516408081957275,\n",
       " 0.4363745032601738,\n",
       " 0.4364983456732002,\n",
       " 0.4365837787675732,\n",
       " 0.4377443379267302,\n",
       " 0.4398083526327757,\n",
       " 0.4409583186131708,\n",
       " 0.44178064348647406,\n",
       " 0.44215712281223074,\n",
       " 0.44244032306960074,\n",
       " 0.4433540286419032,\n",
       " 0.44537533835486065,\n",
       " 0.4456287708699693,\n",
       " 0.4478656211505704,\n",
       " 0.4489673161958557,\n",
       " 0.4490273226534814,\n",
       " 0.45032983123674347,\n",
       " 0.4511019801056266,\n",
       " 0.45293689127873826,\n",
       " 0.45621945785150614,\n",
       " 0.457341429225156,\n",
       " 0.45792361691423106,\n",
       " 0.4611200531735285,\n",
       " 0.46320709049470526,\n",
       " 0.4632889021730136,\n",
       " 0.46453725526258416,\n",
       " 0.4654749250466819,\n",
       " 0.4670306397233175,\n",
       " 0.47005073323718977,\n",
       " 0.4708965881697807,\n",
       " 0.4732838400747279,\n",
       " 0.4745345888467754,\n",
       " 0.47534349130728903,\n",
       " 0.47608329113295683,\n",
       " 0.4799976823399487,\n",
       " 0.4812073037916137,\n",
       " 0.4818565871861433,\n",
       " 0.48619311997165965,\n",
       " 0.48759363753268503,\n",
       " 0.4913598239780026,\n",
       " 0.49806231969911213,\n",
       " 0.49881371308039674,\n",
       " 0.49896566865597136,\n",
       " 0.49950754317639356,\n",
       " 0.5022739134691704,\n",
       " 0.5029135914521271,\n",
       " 0.5116919991418236,\n",
       " 0.5200633222731214,\n",
       " 0.5236100968783433,\n",
       " 0.5249795732424841,\n",
       " 0.5254606112102268,\n",
       " 0.5313731532453251,\n",
       " 0.5348127524851011,\n",
       " 0.5408757761562728,\n",
       " 0.5617028943533873,\n",
       " 0.5642717968625836,\n",
       " 0.5741037970193977,\n",
       " 0.6218199454437439,\n",
       " 0.7087781639948916]"
      ]
     },
     "execution_count": 7,
     "metadata": {},
     "output_type": "execute_result"
    }
   ],
   "source": [
    "dj.sort()\n",
    "dj"
   ]
  },
  {
   "cell_type": "code",
   "execution_count": null,
   "metadata": {},
   "outputs": [],
   "source": [
    "male_dist[\"57915.550.L2S64.s.2.sequence\"].nsmallest(5)"
   ]
  },
  {
   "cell_type": "code",
   "execution_count": null,
   "metadata": {},
   "outputs": [],
   "source": [
    "df.shape"
   ]
  },
  {
   "cell_type": "code",
   "execution_count": null,
   "metadata": {},
   "outputs": [],
   "source": []
  }
 ],
 "metadata": {
  "kernelspec": {
   "display_name": "Python 3",
   "language": "python",
   "name": "python3"
  },
  "language_info": {
   "codemirror_mode": {
    "name": "ipython",
    "version": 3
   },
   "file_extension": ".py",
   "mimetype": "text/x-python",
   "name": "python",
   "nbconvert_exporter": "python",
   "pygments_lexer": "ipython3",
   "version": "3.6.10"
  }
 },
 "nbformat": 4,
 "nbformat_minor": 4
}
