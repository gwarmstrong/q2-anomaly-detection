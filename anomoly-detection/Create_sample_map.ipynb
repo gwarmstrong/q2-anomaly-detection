{
 "cells": [
  {
   "cell_type": "code",
   "execution_count": null,
   "metadata": {},
   "outputs": [],
   "source": [
    "with open(\"artifact_110218_021021-144748/BIOM/110218/550_20200106-124938.txt\", \"r\") as file:\n",
    "    lines = file.readlines()\n",
    "    line = lines[0]\n",
    "    lines = lines[1:]\n",
    "\n",
    "with open(\"sample.tsv\", \"w\") as file:\n",
    "    file.write(line)\n",
    "    for line in lines:\n",
    "        file.write(\"57915.\" + line)"
   ]
  }
 ],
 "metadata": {
  "kernelspec": {
   "display_name": "Python 3",
   "language": "python",
   "name": "python3"
  },
  "language_info": {
   "codemirror_mode": {
    "name": "ipython",
    "version": 3
   },
   "file_extension": ".py",
   "mimetype": "text/x-python",
   "name": "python",
   "nbconvert_exporter": "python",
   "pygments_lexer": "ipython3",
   "version": "3.6.10"
  }
 },
 "nbformat": 4,
 "nbformat_minor": 4
}
