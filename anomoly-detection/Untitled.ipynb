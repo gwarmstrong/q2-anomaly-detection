{
 "cells": [
  {
   "cell_type": "code",
   "execution_count": 4,
   "metadata": {},
   "outputs": [],
   "source": [
    "import pandas as pd\n",
    "import numpy as np"
   ]
  },
  {
   "cell_type": "code",
   "execution_count": 10,
   "metadata": {},
   "outputs": [],
   "source": [
    "# distance matrix\n",
    "# reference ids\n",
    "# test ids\n",
    "def cloud(distance_matrix, reference_ids, test_ids, sample_metadata, grouping_column k):\n",
    "    \n",
    "    # step 1\n",
    "    r_di = []\n",
    "    for reference in reference_ids:\n",
    "        g_val = sample_metadata[reference, grouping_column]\n",
    "        r_di.append(\n",
    "            distance_matrix.loc[\n",
    "                (distance_matrix.index.isin(reference_ids) & (sample_metadata[grouping_column] <= g_val)),\n",
    "                \n",
    "            ]\n",
    "#                 reference_ids, reference].nsmallest(k).mean()\n",
    "        )\n",
    "    \n",
    "    # step 2\n",
    "    d_bar = np.array(r_di).mean()\n",
    "    \n",
    "    # step 3\n",
    "    r_ri = [di/d_bar for di in r_di]\n",
    "    \n",
    "    # step 4\n",
    "    t_di = []\n",
    "    m = distance_matrix.loc[reference_ids, test_ids]\n",
    "    for test in test_ids:\n",
    "        t_di.append(m[test].nsmallest(k).mean())\n",
    "    t_ri = [di/d_bar for di in t_di]\n",
    "\n",
    "    # step 5\n",
    "    total = 0\n",
    "    anomalous = []\n",
    "    for i, t_r in enumerate(t_ri):\n",
    "        p = 0\n",
    "        for r_r in r_ri:\n",
    "            if r_r >= t_r:\n",
    "                p += 1\n",
    "        p /= len(r_ri)\n",
    "        if p <= 0.05:\n",
    "            total += 1\n",
    "            anomalous.append(test_ids[i])\n",
    "    \n",
    "    return (anomalous)"
   ]
  },
  {
   "cell_type": "code",
   "execution_count": 18,
   "metadata": {},
   "outputs": [],
   "source": [
    "distances = pd.read_csv(\"artifact_110218_021021-144748/BIOM/110218/distance-matrix.tsv\", sep=\"\\t\", index_col=0)\n",
    "# distances = pd.read_csv(\"artifact_110218_021021-144748/BIOM/110218/euclidean.tsv\", sep=\"\\t\", index_col=0)\n",
    "distances = distances.replace(0, np.nan)\n",
    "distance_ids = distances.index.to_list()\n",
    "samples = pd.read_csv(\"artifact_110218_021021-144748/BIOM/110218/sample.tsv\", sep=\"\\t\", index_col=0)\n",
    "samples = samples.loc[distance_ids]\n",
    "\n",
    "# samples = samples.loc[(samples[\"env_package\"] == \"human-gut\")]\n",
    "# distances = distances.loc[samples.index.to_list()]\n",
    "\n",
    "male = samples.loc[(samples[\"host\"] == \"M3\")]\n",
    "male_ids = male.index.to_list()\n",
    "\n",
    "female = samples.loc[(samples[\"host\"] == \"F4\")]\n",
    "female_ids = female.index.to_list()\n",
    "\n",
    "references = distances.loc[male_ids, male_ids]\n",
    "tests = distances.loc[male_ids, female_ids]\n",
    "\n",
    "# for i in range(1,534):\n",
    "#     d = cloud(distances, references, tests, i)"
   ]
  },
  {
   "cell_type": "markdown",
   "metadata": {},
   "source": [
    "# Create timeseries"
   ]
  },
  {
   "cell_type": "code",
   "execution_count": 6,
   "metadata": {},
   "outputs": [],
   "source": [
    "distances = distances.loc[samples.sort_values(by = \"days_since_experiment_start\").index]\n",
    "distances = distances[distances.index]"
   ]
  },
  {
   "cell_type": "code",
   "execution_count": 25,
   "metadata": {},
   "outputs": [
    {
     "data": {
      "text/html": [
       "<div>\n",
       "<style scoped>\n",
       "    .dataframe tbody tr th:only-of-type {\n",
       "        vertical-align: middle;\n",
       "    }\n",
       "\n",
       "    .dataframe tbody tr th {\n",
       "        vertical-align: top;\n",
       "    }\n",
       "\n",
       "    .dataframe thead th {\n",
       "        text-align: right;\n",
       "    }\n",
       "</style>\n",
       "<table border=\"1\" class=\"dataframe\">\n",
       "  <thead>\n",
       "    <tr style=\"text-align: right;\">\n",
       "      <th></th>\n",
       "      <th>57915.550.L2S340.s.2.sequence</th>\n",
       "      <th>57915.550.L2S64.s.2.sequence</th>\n",
       "      <th>57915.550.L6S270.s.6.sequence</th>\n",
       "      <th>57915.550.L6S111.s.6.sequence</th>\n",
       "      <th>57915.550.L4S40.s.4.sequence</th>\n",
       "      <th>57915.550.L3S254.s.3.sequence</th>\n",
       "      <th>57915.550.L3S135.s.3.sequence</th>\n",
       "      <th>57915.550.L1S26.s.1.sequence</th>\n",
       "      <th>57915.550.L2S138.s.2.sequence</th>\n",
       "      <th>57915.550.L2S259.s.2.sequence</th>\n",
       "      <th>...</th>\n",
       "      <th>57915.550.L3S41.s.3.sequence</th>\n",
       "      <th>57915.550.L1S347.s.1.sequence</th>\n",
       "      <th>57915.550.L5S65.s.5.sequence</th>\n",
       "      <th>57915.550.L5S277.s.5.sequence</th>\n",
       "      <th>57915.550.L5S116.s.5.sequence</th>\n",
       "      <th>57915.550.L6S27.s.6.sequence</th>\n",
       "      <th>57915.550.L2S162.s.2.sequence</th>\n",
       "      <th>57915.550.L2S203.s.2.sequence</th>\n",
       "      <th>57915.550.L6S87.s.6.sequence</th>\n",
       "      <th>57915.550.L3S317.s.3.sequence</th>\n",
       "    </tr>\n",
       "  </thead>\n",
       "  <tbody>\n",
       "    <tr>\n",
       "      <th>57915.550.L3S371.s.3.sequence</th>\n",
       "      <td>0.436341</td>\n",
       "      <td>0.789785</td>\n",
       "      <td>0.494929</td>\n",
       "      <td>0.526231</td>\n",
       "      <td>0.720507</td>\n",
       "      <td>0.430312</td>\n",
       "      <td>0.350482</td>\n",
       "      <td>0.704968</td>\n",
       "      <td>0.524509</td>\n",
       "      <td>0.467187</td>\n",
       "      <td>...</td>\n",
       "      <td>0.456099</td>\n",
       "      <td>0.754528</td>\n",
       "      <td>0.590702</td>\n",
       "      <td>0.423378</td>\n",
       "      <td>0.417232</td>\n",
       "      <td>0.493759</td>\n",
       "      <td>0.514156</td>\n",
       "      <td>0.608092</td>\n",
       "      <td>0.403501</td>\n",
       "      <td>0.56997</td>\n",
       "    </tr>\n",
       "  </tbody>\n",
       "</table>\n",
       "<p>1 rows × 1967 columns</p>\n",
       "</div>"
      ],
      "text/plain": [
       "                               57915.550.L2S340.s.2.sequence  \\\n",
       "57915.550.L3S371.s.3.sequence                       0.436341   \n",
       "\n",
       "                               57915.550.L2S64.s.2.sequence  \\\n",
       "57915.550.L3S371.s.3.sequence                      0.789785   \n",
       "\n",
       "                               57915.550.L6S270.s.6.sequence  \\\n",
       "57915.550.L3S371.s.3.sequence                       0.494929   \n",
       "\n",
       "                               57915.550.L6S111.s.6.sequence  \\\n",
       "57915.550.L3S371.s.3.sequence                       0.526231   \n",
       "\n",
       "                               57915.550.L4S40.s.4.sequence  \\\n",
       "57915.550.L3S371.s.3.sequence                      0.720507   \n",
       "\n",
       "                               57915.550.L3S254.s.3.sequence  \\\n",
       "57915.550.L3S371.s.3.sequence                       0.430312   \n",
       "\n",
       "                               57915.550.L3S135.s.3.sequence  \\\n",
       "57915.550.L3S371.s.3.sequence                       0.350482   \n",
       "\n",
       "                               57915.550.L1S26.s.1.sequence  \\\n",
       "57915.550.L3S371.s.3.sequence                      0.704968   \n",
       "\n",
       "                               57915.550.L2S138.s.2.sequence  \\\n",
       "57915.550.L3S371.s.3.sequence                       0.524509   \n",
       "\n",
       "                               57915.550.L2S259.s.2.sequence  ...  \\\n",
       "57915.550.L3S371.s.3.sequence                       0.467187  ...   \n",
       "\n",
       "                               57915.550.L3S41.s.3.sequence  \\\n",
       "57915.550.L3S371.s.3.sequence                      0.456099   \n",
       "\n",
       "                               57915.550.L1S347.s.1.sequence  \\\n",
       "57915.550.L3S371.s.3.sequence                       0.754528   \n",
       "\n",
       "                               57915.550.L5S65.s.5.sequence  \\\n",
       "57915.550.L3S371.s.3.sequence                      0.590702   \n",
       "\n",
       "                               57915.550.L5S277.s.5.sequence  \\\n",
       "57915.550.L3S371.s.3.sequence                       0.423378   \n",
       "\n",
       "                               57915.550.L5S116.s.5.sequence  \\\n",
       "57915.550.L3S371.s.3.sequence                       0.417232   \n",
       "\n",
       "                               57915.550.L6S27.s.6.sequence  \\\n",
       "57915.550.L3S371.s.3.sequence                      0.493759   \n",
       "\n",
       "                               57915.550.L2S162.s.2.sequence  \\\n",
       "57915.550.L3S371.s.3.sequence                       0.514156   \n",
       "\n",
       "                               57915.550.L2S203.s.2.sequence  \\\n",
       "57915.550.L3S371.s.3.sequence                       0.608092   \n",
       "\n",
       "                               57915.550.L6S87.s.6.sequence  \\\n",
       "57915.550.L3S371.s.3.sequence                      0.403501   \n",
       "\n",
       "                               57915.550.L3S317.s.3.sequence  \n",
       "57915.550.L3S371.s.3.sequence                        0.56997  \n",
       "\n",
       "[1 rows x 1967 columns]"
      ]
     },
     "execution_count": 25,
     "metadata": {},
     "output_type": "execute_result"
    }
   ],
   "source": [
    "distances.loc[(distances.index.isin([\"57915.550.L3S371.s.3.sequence\"])) & (samples[\"days_since_experiment_start\"] <= 0)]"
   ]
  },
  {
   "cell_type": "code",
   "execution_count": 22,
   "metadata": {},
   "outputs": [
    {
     "ename": "AttributeError",
     "evalue": "'list' object has no attribute 'isin'",
     "output_type": "error",
     "traceback": [
      "\u001b[0;31m---------------------------------------------------------------------------\u001b[0m",
      "\u001b[0;31mAttributeError\u001b[0m                            Traceback (most recent call last)",
      "\u001b[0;32m<ipython-input-22-2a960eb7b3f4>\u001b[0m in \u001b[0;36m<module>\u001b[0;34m\u001b[0m\n\u001b[0;32m----> 1\u001b[0;31m \u001b[0msamples\u001b[0m\u001b[0;34m.\u001b[0m\u001b[0mloc\u001b[0m\u001b[0;34m[\u001b[0m\u001b[0msamples\u001b[0m\u001b[0;34m.\u001b[0m\u001b[0mindex\u001b[0m\u001b[0;34m.\u001b[0m\u001b[0mto_list\u001b[0m\u001b[0;34m(\u001b[0m\u001b[0;34m)\u001b[0m\u001b[0;34m.\u001b[0m\u001b[0misin\u001b[0m\u001b[0;34m(\u001b[0m\u001b[0mreferences\u001b[0m\u001b[0;34m.\u001b[0m\u001b[0mindex\u001b[0m\u001b[0;34m.\u001b[0m\u001b[0mto_list\u001b[0m\u001b[0;34m(\u001b[0m\u001b[0;34m)\u001b[0m\u001b[0;34m)\u001b[0m\u001b[0;34m]\u001b[0m\u001b[0;34m\u001b[0m\u001b[0;34m\u001b[0m\u001b[0m\n\u001b[0m",
      "\u001b[0;31mAttributeError\u001b[0m: 'list' object has no attribute 'isin'"
     ]
    }
   ],
   "source": [
    "samples.loc[samples.index.to_list().isin(references.index.to_list())]"
   ]
  },
  {
   "cell_type": "code",
   "execution_count": 27,
   "metadata": {},
   "outputs": [
    {
     "data": {
      "text/plain": [
       "abx_past_6_mos                              Not applicable\n",
       "age                                                  31.94\n",
       "age_unit                                             years\n",
       "anonymized_name                                sample_1033\n",
       "atherosclerosis                                      False\n",
       "                                    ...                   \n",
       "scientific_name                      human skin metagenome\n",
       "sex                                                   male\n",
       "smoker                                               False\n",
       "taxon_id                                            539655\n",
       "title              Moving pictures of the human microbiome\n",
       "Name: 57915.550.L3S371.s.3.sequence, Length: 74, dtype: object"
      ]
     },
     "execution_count": 27,
     "metadata": {},
     "output_type": "execute_result"
    }
   ],
   "source": [
    "samples.loc[\"57915.550.L3S371.s.3.sequence\"]#, \"days_since_experiment_start\"]"
   ]
  },
  {
   "cell_type": "code",
   "execution_count": null,
   "metadata": {},
   "outputs": [],
   "source": []
  }
 ],
 "metadata": {
  "kernelspec": {
   "display_name": "Python 3",
   "language": "python",
   "name": "python3"
  },
  "language_info": {
   "codemirror_mode": {
    "name": "ipython",
    "version": 3
   },
   "file_extension": ".py",
   "mimetype": "text/x-python",
   "name": "python",
   "nbconvert_exporter": "python",
   "pygments_lexer": "ipython3",
   "version": "3.6.10"
  }
 },
 "nbformat": 4,
 "nbformat_minor": 4
}
