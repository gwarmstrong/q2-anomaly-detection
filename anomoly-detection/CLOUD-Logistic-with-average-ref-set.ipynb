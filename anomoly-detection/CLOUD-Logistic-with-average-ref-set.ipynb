{
 "cells": [
  {
   "cell_type": "code",
   "execution_count": 17,
   "metadata": {},
   "outputs": [],
   "source": [
    "import pandas as pd\n",
    "import numpy as np\n",
    "%matplotlib inline\n",
    "from matplotlib import pyplot as plt\n",
    "from sklearn.linear_model import LogisticRegression\n",
    "from sklearn import metrics\n",
    "import math\n",
    "# plt.rcParams['figure.figsize'] = [10, 5]"
   ]
  },
  {
   "cell_type": "code",
   "execution_count": 2,
   "metadata": {},
   "outputs": [],
   "source": [
    "def calc_di(distances, k, d_bar=True):\n",
    "    di = distances.apply(lambda x: x.nsmallest(k).mean()).values\n",
    "    return (di, di.mean()) if d_bar else di    "
   ]
  },
  {
   "cell_type": "code",
   "execution_count": 3,
   "metadata": {},
   "outputs": [],
   "source": [
    "def cloud(references, tests, k):\n",
    "    \"\"\"\n",
    "    reference: pd.DataFrame\n",
    "        Should represent a distance matrix where rows and columns are indexed by reference sample ids\n",
    "    tests: pd.DataFrame\n",
    "        Should represent a distance matrix where row are indexed by reference sample ids and columns are indexed\n",
    "        by tests sample ids\n",
    "    k: int\n",
    "        The number of k nearest neighbors to look at\n",
    "    \"\"\"\n",
    "    reference_ids = references.columns.to_list()\n",
    "    test_ids = tests.columns.to_list()\n",
    "    # step 1 and 2\n",
    "    r_di, d_bar = calc_di(references, k)\n",
    "    \n",
    "    # step 3\n",
    "    r_ri = r_di / d_bar\n",
    "    \n",
    "    # step 4\n",
    "    t_di = calc_di(tests, k, d_bar=False)\n",
    "    t_ri = t_di / d_bar\n",
    "    \n",
    "    return (t_di)"
   ]
  },
  {
   "cell_type": "code",
   "execution_count": 4,
   "metadata": {},
   "outputs": [],
   "source": [
    "def get_reference_set(distances, samples, ref_lam, s_r, p_k, num_samplings=10):\n",
    "    # get full \"normal\" set\n",
    "    distances = distances.loc[ref_lam(samples)]\n",
    "    distances = distances[distances.index]\n",
    "    \n",
    "    # calculate k\n",
    "    size = int(distances.shape[0] * s_r)\n",
    "    k = int(p_k * size)\n",
    "    _, d_bar = calc_di(distances, k)\n",
    "    \n",
    "    # find s_bar closest to d_bar\n",
    "    best_ref = None\n",
    "    best_bar_sep = np.inf\n",
    "    for _ in range(num_samplings):\n",
    "        ref_distances = distances.sample(size)\n",
    "        ref_distances = ref_distances[ref_distances.index]\n",
    "        _, s_bar = calc_di(ref_distances, k)\n",
    "        s_bar_dist = s_bar - d_bar\n",
    "        if s_bar_dist < best_bar_sep:\n",
    "            best_ref = ref_distances\n",
    "            best_bar_sep = s_bar_dist\n",
    "    return (best_ref, k)"
   ]
  },
  {
   "cell_type": "code",
   "execution_count": 5,
   "metadata": {},
   "outputs": [],
   "source": [
    "def get_ref_train_test(distances, samples, ref_lam, anom_lam, s_r, p_k):\n",
    "    # get reference set\n",
    "#     reference_distances = distances.loc[ref_lam(samples)]\n",
    "#     reference_distances = reference_distances.sample(int(reference_distances.shape[0]*.6))\n",
    "#     reference_distances = reference_distances[reference_distances.index]\n",
    "    reference_distances, k = get_reference_set(distances, samples, ref_lam, s_r, p_k)\n",
    "    ref_ids = np.array(reference_distances.index.to_list())\n",
    "    \n",
    "    # get train set\n",
    "    train_set_distances = distances.loc[\n",
    "        (anom_lam(samples)) & ~(samples.index.isin(ref_ids)),\n",
    "        ref_ids\n",
    "    ]\n",
    "    train_set_distances = train_set_distances.sample(int(train_set_distances.shape[0]*.8))\n",
    "    train_set_ids = train_set_distances.index.to_list()\n",
    "    train_set_distances = train_set_distances.T\n",
    "    \n",
    "    test_set_distances = distances.loc[\n",
    "        (anom_lam(samples)) & ~(samples.index.isin(np.concatenate((ref_ids, train_set_ids)))),\n",
    "        reference_distances.index.to_list()\n",
    "    ].T\n",
    "    return (reference_distances, train_set_distances, test_set_distances, k)"
   ]
  },
  {
   "cell_type": "code",
   "execution_count": 6,
   "metadata": {},
   "outputs": [],
   "source": [
    "distances = pd.read_csv(\"artifact_110218_021021-144748/BIOM/110218/distance-matrix.tsv\", sep=\"\\t\", index_col=0)\n",
    "distances = distances.replace(0, np.nan)\n",
    "distance_ids = distances.index.to_list()\n",
    "samples = pd.read_csv(\"artifact_110218_021021-144748/BIOM/110218/sample.tsv\", sep=\"\\t\", index_col=0)\n",
    "samples = samples.loc[distance_ids]"
   ]
  },
  {
   "cell_type": "markdown",
   "metadata": {},
   "source": [
    "# get ref, train, test for m3 vs f4"
   ]
  },
  {
   "cell_type": "code",
   "execution_count": 7,
   "metadata": {},
   "outputs": [],
   "source": [
    "# for i in (range(1, 10)):\n",
    "#     ref_dist, train_dist, test_dist, k = get_ref_train_test(\n",
    "#         distances,\n",
    "#         samples,\n",
    "#         lambda df: (df.host == \"M3\"),\n",
    "#         lambda df: (df.host == \"M3\") | (df.host == \"F4\"),\n",
    "#         0.6,\n",
    "#         0.05\n",
    "#     )\n",
    "#     train_ids = train_dist.columns.to_list()\n",
    "#     test_ids = test_dist.columns.to_list()"
   ]
  },
  {
   "cell_type": "markdown",
   "metadata": {},
   "source": [
    "# AUC for m3 vs f4"
   ]
  },
  {
   "cell_type": "code",
   "execution_count": 42,
   "metadata": {},
   "outputs": [
    {
     "name": "stdout",
     "output_type": "stream",
     "text": [
      "143 1 1\n",
      "143 1 2\n",
      "143 1 3\n",
      "143 1 4\n",
      "143 1 5\n",
      "143 1 6\n",
      "143 1 7\n",
      "143 1 8\n",
      "143 1 9\n",
      "286 2 1\n",
      "286 2 2\n",
      "286 2 3\n",
      "286 2 4\n",
      "286 2 5\n",
      "286 2 6\n",
      "286 2 7\n",
      "286 2 8\n",
      "286 2 9\n",
      "429 3 1\n",
      "429 3 2\n",
      "429 3 3\n",
      "429 3 4\n",
      "429 3 5\n",
      "429 3 6\n",
      "429 3 7\n",
      "429 3 8\n",
      "429 3 9\n",
      "573 4 1\n",
      "573 4 2\n",
      "573 4 3\n",
      "573 4 4\n",
      "573 4 5\n",
      "573 4 6\n",
      "573 4 7\n",
      "573 4 8\n",
      "573 4 9\n",
      "716 5 1\n",
      "716 5 2\n",
      "716 5 3\n",
      "716 5 4\n",
      "716 5 5\n",
      "716 5 6\n",
      "716 5 7\n",
      "716 5 8\n",
      "716 5 9\n",
      "859 6 1\n",
      "859 6 2\n",
      "859 6 3\n",
      "859 6 4\n",
      "859 6 5\n",
      "859 6 6\n",
      "859 6 7\n",
      "859 6 8\n",
      "859 6 9\n"
     ]
    },
    {
     "data": {
      "image/png": "[encoded data removed]",
      "text/plain": [
       "<Figure size 432x288 with 54 Axes>"
      ]
     },
     "metadata": {
      "needs_background": "light"
     },
     "output_type": "display_data"
    }
   ],
   "source": [
    "i_s, j_s = (6,9)\n",
    "fig, axs = plt.subplots(i_s,j_s)\n",
    "sizes = [0] * i_s\n",
    "ks = [0] * j_s\n",
    "for i in range(1, i_s+1):\n",
    "    for j in range(1, j_s+1):\n",
    "        ref_dist, train_dist, test_dist, k = get_ref_train_test(\n",
    "            distances,\n",
    "            samples,\n",
    "            lambda df: (df.host == \"M3\"),\n",
    "            lambda df: (df.host == \"M3\") | (df.host == \"F4\"),\n",
    "            i * 0.1,\n",
    "            j * 0.05\n",
    "        )\n",
    "        train_ids = train_dist.columns.to_list()\n",
    "        test_ids = test_dist.columns.to_list()\n",
    "\n",
    "        x = np.array(cloud(ref_dist, train_dist, k))\n",
    "        x = x.reshape(-1, 1)\n",
    "        y = samples.loc[train_ids, \"host\"] == \"M3\"\n",
    "        y = np.array(y.to_list())\n",
    "        y = y.reshape(y.size,)\n",
    "\n",
    "        mdl = LogisticRegression()\n",
    "        mdl = mdl.fit(x,y)\n",
    "\n",
    "        x = np.array(cloud(ref_dist, test_dist, k))\n",
    "        x = x.reshape(-1, 1)\n",
    "        y = samples.loc[test_ids, \"host\"] == \"M3\"\n",
    "        y = np.array(y.to_list())\n",
    "        y = y.reshape(y.size,)\n",
    "        probs = mdl.predict_proba(x)\n",
    "        preds = probs[:,1]\n",
    "        fpr, tpr, thres = metrics.roc_curve(y, preds)\n",
    "        roc_auc = metrics.auc(fpr, tpr)\n",
    "\n",
    "        axs[i-1, j-1].plot(fpr, tpr, 'b', label = 'AUC = %0.2f' % roc_auc)\n",
    "        axs[i-1, j-1].legend(loc = 'lower right')\n",
    "        axs[i-1, j-1].plot([0, 1], [0, 1],'r--')\n",
    "        axs[i-1, j-1].set_xlim([0, 1])\n",
    "        axs[i-1, j-1].set_xlim([0, 1])\n",
    "#         axs[i-1, j-1].set_ylabel(\"k = \" + str(size))\n",
    "        \n",
    "        sizes[i-1] = i * 0.1\n",
    "        ks [j-1] = j * 0.05\n",
    "        print(ref_dist.shape[0], i, j)\n",
    "\n",
    "for i in range(i_s):\n",
    "    axs[i, 0].set_ylabel(\"s = %0.2f\" % sizes[i])\n",
    "        \n",
    "for j in range(j_s):\n",
    "    axs[0, j].set_title(\"k = %0.2f\" % ks[j])\n",
    "\n",
    "# # Hide x labels and tick labels for top plots and y ticks for right plots.\n",
    "#"
   ]
  },
  {
   "cell_type": "code",
   "execution_count": 43,
   "metadata": {},
   "outputs": [],
   "source": [
    " for ax in axs.flat:\n",
    "    ax.label_outer()\n",
    "\n",
    "fig.set_size_inches(20,20)\n",
    "fig.savefig('mean.png', bbox_inches='tight')"
   ]
  },
  {
   "cell_type": "markdown",
   "metadata": {},
   "source": [
    "# ref, train, test m3 gut vs f4 gut"
   ]
  },
  {
   "cell_type": "code",
   "execution_count": null,
   "metadata": {},
   "outputs": [],
   "source": [
    "ref_dist, train_dist, test_dist = get_ref_train_test(\n",
    "    distances,\n",
    "    samples,\n",
    "    lambda df: (df.host == \"M3\") & (df.env_package == \"human-gut\"),\n",
    "    lambda df: (df[\"env_package\"] == \"human-gut\")\n",
    ")\n",
    "train_ids = train_dist.columns.to_list()\n",
    "test_ids = test_dist.columns.to_list()"
   ]
  },
  {
   "cell_type": "markdown",
   "metadata": {},
   "source": [
    "# AUC for m3 gut vs f4 gut"
   ]
  },
  {
   "cell_type": "code",
   "execution_count": null,
   "metadata": {},
   "outputs": [],
   "source": [
    "x = np.array(cloud(ref_dist, train_dist, 8))\n",
    "x = x.reshape(-1, 1)\n",
    "y = samples.loc[train_ids, \"host\"] == \"M3\"\n",
    "y = np.array(y.to_list())\n",
    "y = y.reshape(y.size,)\n",
    "\n",
    "mdl = LogisticRegression()\n",
    "mdl = mdl.fit(x,y)\n",
    "\n",
    "x = np.array(cloud(ref_dist, test_dist, 8))\n",
    "x = x.reshape(-1, 1)\n",
    "y = samples.loc[test_ids, \"host\"] == \"M3\"\n",
    "y = np.array(y.to_list())\n",
    "y = y.reshape(y.size,)\n",
    "probs = mdl.predict_proba(x)\n",
    "preds = probs[:,1]\n",
    "fpr, tpr, thres = metrics.roc_curve(y, preds)\n",
    "roc_auc = metrics.auc(fpr, tpr)\n",
    "\n",
    "plt.title('ROC m3 gut vs f4 gut')\n",
    "plt.plot(fpr, tpr, 'b', label = 'AUC = %0.2f' % roc_auc)\n",
    "plt.legend(loc = 'lower right')\n",
    "plt.plot([0, 1], [0, 1],'r--')\n",
    "plt.xlim([0, 1])\n",
    "plt.ylim([0, 1])\n",
    "plt.ylabel('True Positive Rate')\n",
    "plt.xlabel('False Positive Rate')\n",
    "plt.show()"
   ]
  },
  {
   "cell_type": "markdown",
   "metadata": {},
   "source": [
    "# ref, train, test m3 skin vs f4 skin"
   ]
  },
  {
   "cell_type": "code",
   "execution_count": null,
   "metadata": {},
   "outputs": [],
   "source": [
    "ref_dist, train_dist, test_dist = get_ref_train_test(\n",
    "    distances,\n",
    "    samples,\n",
    "    lambda df: (df.host == \"M3\") & (df.env_package == \"human-skin\"),\n",
    "    lambda df: (df[\"env_package\"] == \"human-skin\")\n",
    ")\n",
    "train_ids = train_dist.columns.to_list()\n",
    "test_ids = test_dist.columns.to_list()"
   ]
  },
  {
   "cell_type": "code",
   "execution_count": null,
   "metadata": {},
   "outputs": [],
   "source": [
    "x = np.array(cloud(ref_dist, train_dist, 2))\n",
    "x = x.reshape(-1, 1)\n",
    "y = samples.loc[train_ids, \"host\"] == \"M3\"\n",
    "y = np.array(y.to_list())\n",
    "y = y.reshape(y.size,)\n",
    "\n",
    "mdl = LogisticRegression()\n",
    "mdl = mdl.fit(x,y)\n",
    "\n",
    "x = np.array(cloud(ref_dist, test_dist, 2))\n",
    "x = x.reshape(-1, 1)\n",
    "y = samples.loc[test_ids, \"host\"] == \"M3\"\n",
    "y = np.array(y.to_list())\n",
    "y = y.reshape(y.size,)\n",
    "probs = mdl.predict_proba(x)\n",
    "preds = probs[:,1]\n",
    "fpr, tpr, thres = metrics.roc_curve(y, preds)\n",
    "roc_auc = metrics.auc(fpr, tpr)\n",
    "\n",
    "plt.title('ROC m3 skin vs f4 skin')\n",
    "plt.plot(fpr, tpr, 'b', label = 'AUC = %0.2f' % roc_auc)\n",
    "plt.legend(loc = 'lower right')\n",
    "plt.plot([0, 1], [0, 1],'r--')\n",
    "plt.xlim([0, 1])\n",
    "plt.ylim([0, 1])\n",
    "plt.ylabel('True Positive Rate')\n",
    "plt.xlabel('False Positive Rate')\n",
    "plt.show()"
   ]
  },
  {
   "cell_type": "markdown",
   "metadata": {},
   "source": [
    "# ref, train, test m3 oral vs f4 oral"
   ]
  },
  {
   "cell_type": "code",
   "execution_count": null,
   "metadata": {},
   "outputs": [],
   "source": [
    "ref_dist, train_dist, test_dist = get_ref_train_test(\n",
    "    distances,\n",
    "    samples,\n",
    "    lambda df: (df.host == \"M3\") & (df.env_package == \"human-oral\"),\n",
    "    lambda df: (df[\"env_package\"] == \"human-oral\")\n",
    ")\n",
    "train_ids = train_dist.columns.to_list()\n",
    "test_ids = test_dist.columns.to_list()"
   ]
  },
  {
   "cell_type": "code",
   "execution_count": null,
   "metadata": {},
   "outputs": [],
   "source": [
    "x = np.array(cloud(ref_dist, train_dist, 61))\n",
    "x = x.reshape(-1, 1)\n",
    "y = samples.loc[train_ids, \"host\"] == \"M3\"\n",
    "y = np.array(y.to_list())\n",
    "y = y.reshape(y.size,)\n",
    "\n",
    "mdl = LogisticRegression()\n",
    "mdl = mdl.fit(x,y)\n",
    "\n",
    "x = np.array(cloud(ref_dist, test_dist, 61))\n",
    "x = x.reshape(-1, 1)\n",
    "y = samples.loc[test_ids, \"host\"] == \"M3\"\n",
    "y = np.array(y.to_list())\n",
    "y = y.reshape(y.size,)\n",
    "probs = mdl.predict_proba(x)\n",
    "preds = probs[:,1]\n",
    "fpr, tpr, thres = metrics.roc_curve(y, preds)\n",
    "roc_auc = metrics.auc(fpr, tpr)\n",
    "\n",
    "plt.title('ROC m3 oral vs f4 oral')\n",
    "plt.plot(fpr, tpr, 'b', label = 'AUC = %0.2f' % roc_auc)\n",
    "plt.legend(loc = 'lower right')\n",
    "plt.plot([0, 1], [0, 1],'r--')\n",
    "plt.xlim([0, 1])\n",
    "plt.ylim([0, 1])\n",
    "plt.ylabel('True Positive Rate')\n",
    "plt.xlabel('False Positive Rate')\n",
    "plt.show()"
   ]
  },
  {
   "cell_type": "code",
   "execution_count": null,
   "metadata": {},
   "outputs": [],
   "source": [
    "best_auc, best_k = (0,0)\n",
    "for k in range(1, len(train_ids)):\n",
    "    x = np.array(cloud(ref_dist, train_dist, k))\n",
    "    x = x.reshape(-1, 1)\n",
    "    y = samples.loc[train_ids, \"host\"] == \"M3\"\n",
    "    y = np.array(y.to_list())\n",
    "    y = y.reshape(y.size,)\n",
    "    \n",
    "    mdl = LogisticRegression()\n",
    "    mdl = mdl.fit(x,y)\n",
    "    \n",
    "    x = np.array(cloud(ref_dist, test_dist, k))\n",
    "    x = x.reshape(-1, 1)\n",
    "    y = samples.loc[test_ids, \"host\"] == \"M3\"\n",
    "    y = np.array(y.to_list())\n",
    "    y = y.reshape(y.size,)\n",
    "    probs = mdl.predict_proba(x)\n",
    "    preds = probs[:,1]\n",
    "    fpr, tpr, thres = metrics.roc_curve(y, preds)\n",
    "    roc_auc = metrics.auc(fpr, tpr)\n",
    "    if roc_auc > best_auc:\n",
    "        best_auc, best_k = roc_auc, k\n",
    "    print(roc_auc, \"better!\" if best_auc == roc_auc else \"\", k, len(train_ids))"
   ]
  },
  {
   "cell_type": "code",
   "execution_count": null,
   "metadata": {},
   "outputs": [],
   "source": [
    "5 < np.inf"
   ]
  },
  {
   "cell_type": "code",
   "execution_count": null,
   "metadata": {},
   "outputs": [],
   "source": [
    "for i in (range(1, 10)):\n",
    "    print(i)"
   ]
  },
  {
   "cell_type": "code",
   "execution_count": null,
   "metadata": {},
   "outputs": [],
   "source": []
  }
 ],
 "metadata": {
  "kernelspec": {
   "display_name": "Python 3",
   "language": "python",
   "name": "python3"
  },
  "language_info": {
   "codemirror_mode": {
    "name": "ipython",
    "version": 3
   },
   "file_extension": ".py",
   "mimetype": "text/x-python",
   "name": "python",
   "nbconvert_exporter": "python",
   "pygments_lexer": "ipython3",
   "version": "3.6.10"
  }
 },
 "nbformat": 4,
 "nbformat_minor": 4
}
