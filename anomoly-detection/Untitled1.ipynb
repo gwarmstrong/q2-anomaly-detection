{
 "cells": [
  {
   "cell_type": "code",
   "execution_count": 1,
   "metadata": {},
   "outputs": [],
   "source": [
    "import numpy as np\n",
    "import pandas as pd\n",
    "import biom\n",
    "from qiime2 import Artifact\n",
    "# from skbio.diversity import beta_diversity\n",
    "import skbio.diversity.beta as beta\n",
    "# from q2_diversity import beta_phylogenetic\n",
    "# from qiime2.plugins.diversity_lib.methods import unweighted_unifrac as q2_unweighted_unifrac\n",
    "from skbio.stats.distance import DistanceMatrix \n",
    "from unifrac import unweighted\n",
    "from skbio import TreeNode"
   ]
  },
  {
   "cell_type": "code",
   "execution_count": 5,
   "metadata": {},
   "outputs": [],
   "source": [
    "class Cloud():\n",
    "    def __init__(self, n_neigbors=\"auto\"):\n",
    "        \"\"\"\n",
    "        auto mean k = 10% of reference size\n",
    "        \"\"\"\n",
    "        self.k = n_neigbors\n",
    "        \n",
    "    def _calc_di(self, distances, d_bar=True):\n",
    "        di = distances.apply(lambda x: x.nsmallest(self.k).mean()).values\n",
    "        return (di, di.mean()) if d_bar else di    \n",
    "        \n",
    "    def fit(self, X):\n",
    "        \"\"\"\n",
    "        x: pd.DataFrame\n",
    "            The distance matrix for references            \n",
    "        \"\"\"\n",
    "        if self.k == \"auto\":\n",
    "            self.k = int(X.shape[0] * 0.1)\n",
    "        self.di, self.d_bar = self._calc_di(X)\n",
    "        self.reference_ids = X.columns.tolist()\n",
    "        \n",
    "    \n",
    "    def score_samples(self,X):\n",
    "        \"\"\"\n",
    "        X: pd.DataFrame\n",
    "            The distance matrix\n",
    "        \"\"\"\n",
    "        \n",
    "        "
   ]
  },
  {
   "cell_type": "code",
   "execution_count": 6,
   "metadata": {},
   "outputs": [],
   "source": [
    "distances = pd.read_csv(\"artifact_110218_021021-144748/BIOM/110218/distance-matrix.tsv\", sep=\"\\t\", index_col=0)\n",
    "distances = distances.replace(0, np.nan)\n",
    "distance_ids = distances.index.to_list()\n",
    "samples = pd.read_csv(\"artifact_110218_021021-144748/BIOM/110218/sample.tsv\", sep=\"\\t\", index_col=0)\n",
    "samples = samples.loc[distance_ids]\n",
    "samples[\"gut\"] = samples.env_package == \"human-gut\"\n",
    "samples[\"skin\"] = samples.env_package == \"human-skin\"\n",
    "samples[\"oral\"] = samples.env_package == \"human-oral\""
   ]
  },
  {
   "cell_type": "code",
   "execution_count": 9,
   "metadata": {},
   "outputs": [
    {
     "data": {
      "text/plain": [
       "(1967,)"
      ]
     },
     "execution_count": 9,
     "metadata": {},
     "output_type": "execute_result"
    }
   ],
   "source": [
    "cloud = Cloud()\n",
    "cloud.fit(distances)\n",
    "cloud.di.shape"
   ]
  },
  {
   "cell_type": "code",
   "execution_count": null,
   "metadata": {},
   "outputs": [],
   "source": [
    "references = np.array(t.loc[t.host == \"M3\"].index.tolist())"
   ]
  },
  {
   "cell_type": "code",
   "execution_count": null,
   "metadata": {},
   "outputs": [],
   "source": [
    "table.index(references[0], axis=\"sample\")"
   ]
  },
  {
   "cell_type": "code",
   "execution_count": null,
   "metadata": {},
   "outputs": [],
   "source": [
    "np.array(table.matrix_data.todense().transpose())[1684,:]"
   ]
  },
  {
   "cell_type": "code",
   "execution_count": null,
   "metadata": {},
   "outputs": [],
   "source": [
    "t = np.array(table.matrix_data.todense().transpose())\n",
    "for r in references:\n",
    "    i = table.index(r, axis=\"sample\")\n",
    "    u = t[i]\n",
    "    v = t[i]\n",
    "    print(beta.unweighted_unifrac(u, v,table.ids(\"observation\"), tree))\n"
   ]
  },
  {
   "cell_type": "code",
   "execution_count": null,
   "metadata": {},
   "outputs": [],
   "source": [
    "test = q2_unweighted_unifrac(table, tree, threads='auto')"
   ]
  },
  {
   "cell_type": "code",
   "execution_count": null,
   "metadata": {},
   "outputs": [],
   "source": [
    "beta_diversity(\n",
    "    metric=\"unweighted_unifrac\",\n",
    "    counts=table.matrix_data.todense().transpose(),\n",
    "    otu_ids=table.ids(axis=\"observation\"),\n",
    "    tree=tree\n",
    ")\n"
   ]
  },
  {
   "cell_type": "code",
   "execution_count": null,
   "metadata": {},
   "outputs": [],
   "source": [
    "test.distance_matrix.view(DistanceMatrix)"
   ]
  },
  {
   "cell_type": "code",
   "execution_count": null,
   "metadata": {},
   "outputs": [],
   "source": [
    "metric = unweighted_unifrac(tree)\n",
    "metric(table)"
   ]
  },
  {
   "cell_type": "code",
   "execution_count": null,
   "metadata": {},
   "outputs": [],
   "source": [
    "r."
   ]
  },
  {
   "cell_type": "code",
   "execution_count": null,
   "metadata": {},
   "outputs": [],
   "source": [
    "unweighted(\n",
    "    \"artifact_110218_021021-144748/BIOM/110218/feature-table.qza\",\n",
    "    \"artifact_110218_021021-144748/BIOM/110218/tree.qza\")"
   ]
  },
  {
   "cell_type": "code",
   "execution_count": null,
   "metadata": {},
   "outputs": [],
   "source": [
    "x = lambda x,y: x+y\n",
    "x(1,2)"
   ]
  },
  {
   "cell_type": "code",
   "execution_count": null,
   "metadata": {},
   "outputs": [],
   "source": [
    "table.ids().shape"
   ]
  },
  {
   "cell_type": "code",
   "execution_count": null,
   "metadata": {},
   "outputs": [],
   "source": [
    "test = np.array([1,2,3])\n",
    "test.shape"
   ]
  },
  {
   "cell_type": "code",
   "execution_count": null,
   "metadata": {},
   "outputs": [],
   "source": [
    "test = Cloud()"
   ]
  },
  {
   "cell_type": "code",
   "execution_count": null,
   "metadata": {},
   "outputs": [],
   "source": [
    "unweighted()"
   ]
  },
  {
   "cell_type": "code",
   "execution_count": null,
   "metadata": {},
   "outputs": [],
   "source": [
    "q2"
   ]
  }
 ],
 "metadata": {
  "kernelspec": {
   "display_name": "Python 3",
   "language": "python",
   "name": "python3"
  },
  "language_info": {
   "codemirror_mode": {
    "name": "ipython",
    "version": 3
   },
   "file_extension": ".py",
   "mimetype": "text/x-python",
   "name": "python",
   "nbconvert_exporter": "python",
   "pygments_lexer": "ipython3",
   "version": "3.6.10"
  }
 },
 "nbformat": 4,
 "nbformat_minor": 4
}
