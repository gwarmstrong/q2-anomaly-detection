{
 "cells": [
  {
   "cell_type": "code",
   "execution_count": 1,
   "metadata": {},
   "outputs": [],
   "source": [
    "import pandas as pd\n",
    "import numpy as np\n",
    "%matplotlib inline\n",
    "from matplotlib import pyplot as plt\n",
    "from sklearn.linear_model import LogisticRegression\n",
    "from sklearn import metrics"
   ]
  },
  {
   "cell_type": "code",
   "execution_count": 2,
   "metadata": {},
   "outputs": [],
   "source": [
    "def cloud(references, tests, k):\n",
    "    \"\"\"\n",
    "    reference: pd.DataFrame\n",
    "        Should represent a distance matrix where rows and columns are indexed by reference sample ids\n",
    "    tests: pd.DataFrame\n",
    "        Should represent a distance matrix where row are indexed by reference sample ids and columns are indexed\n",
    "        by tests sample ids\n",
    "    k: int\n",
    "        The number of k nearest neighbors to look at\n",
    "    \"\"\"\n",
    "    reference_ids = references.columns.to_list()\n",
    "    test_ids = tests.columns.to_list()\n",
    "    # step 1\n",
    "    r_di = references.apply(lambda x: x.nsmallest(k).mean()).values\n",
    "        \n",
    "    # step 2\n",
    "    d_bar = r_di.mean()\n",
    "    \n",
    "    # step 3\n",
    "    r_ri = r_di / d_bar\n",
    "    \n",
    "    # step 4\n",
    "    t_di = tests.apply(lambda x: x.nsmallest(k).mean()).values\n",
    "    t_ri = t_di / d_bar\n",
    "    \n",
    "    return (t_di)"
   ]
  },
  {
   "cell_type": "code",
   "execution_count": null,
   "metadata": {},
   "outputs": [],
   "source": [
    "def get_ref_train_test(distances, samples, ref_lam, anom_lam, s_r):\n",
    "    # get reference set\n",
    "    reference_distances = distances.loc[ref_lam(samples)]\n",
    "    reference_distances = reference_distances.sample(int(reference_distances.shape[0]*s_r))\n",
    "    reference_distances = reference_distances[reference_distances.index]\n",
    "    ref_ids = np.array(reference_distances.index.to_list())\n",
    "    \n",
    "    # get train set\n",
    "    train_set_distances = distances.loc[\n",
    "        (anom_lam(samples)) & ~(samples.index.isin(ref_ids)),\n",
    "        ref_ids\n",
    "    ]\n",
    "    train_set_distances = train_set_distances.sample(int(train_set_distances.shape[0]*.8))\n",
    "    train_set_ids = train_set_distances.index.to_list()\n",
    "    train_set_distances = train_set_distances.T\n",
    "    \n",
    "    test_set_distances = distances.loc[\n",
    "        (anom_lam(samples)) & ~(samples.index.isin(np.concatenate((ref_ids, train_set_ids)))),\n",
    "        reference_distances.index.to_list()\n",
    "    ].T\n",
    "    return (reference_distances, train_set_distances, test_set_distances)"
   ]
  },
  {
   "cell_type": "code",
   "execution_count": null,
   "metadata": {},
   "outputs": [],
   "source": [
    "distances = pd.read_csv(\"artifact_110218_021021-144748/BIOM/110218/distance-matrix.tsv\", sep=\"\\t\", index_col=0)\n",
    "distances = distances.replace(0, np.nan)\n",
    "distance_ids = distances.index.to_list()\n",
    "samples = pd.read_csv(\"artifact_110218_021021-144748/BIOM/110218/sample.tsv\", sep=\"\\t\", index_col=0)\n",
    "samples = samples.loc[distance_ids]"
   ]
  },
  {
   "cell_type": "markdown",
   "metadata": {},
   "source": [
    "# get ref, train, test for m3 vs f4"
   ]
  },
  {
   "cell_type": "code",
   "execution_count": null,
   "metadata": {},
   "outputs": [],
   "source": [
    "# ref_dist, train_dist, test_dist = get_ref_train_test(\n",
    "#     distances,\n",
    "#     samples,\n",
    "#     lambda df: (df.host == \"M3\"),\n",
    "#     lambda df: (df.host == \"M3\") | (df.host == \"F4\")\n",
    "    \n",
    "# )\n",
    "# train_ids = train_dist.columns.to_list()\n",
    "# test_ids = test_dist.columns.to_list()"
   ]
  },
  {
   "cell_type": "code",
   "execution_count": null,
   "metadata": {},
   "outputs": [],
   "source": [
    "i_s, j_s = (6,9)\n",
    "fig, axs = plt.subplots(i_s,j_s)\n",
    "sizes = [0] * i_s\n",
    "ks = [0] * j_s\n",
    "for i in range(1, i_s+1):\n",
    "    for j in range(1, j_s+1):\n",
    "        ref_dist, train_dist, test_dist = get_ref_train_test(\n",
    "            distances,\n",
    "            samples,\n",
    "            lambda df: (df.host == \"M3\"),\n",
    "            lambda df: (df.host == \"M3\") | (df.host == \"F4\"),\n",
    "            i*0.1\n",
    "        )\n",
    "        train_ids = train_dist.columns.to_list()\n",
    "        test_ids = test_dist.columns.to_list()\n",
    "        k = int(j * 0.05 * ref_dist.shape[0])\n",
    "        x = np.array(cloud(ref_dist, train_dist, k))\n",
    "        x = x.reshape(-1, 1)\n",
    "        y = samples.loc[train_ids, \"host\"] == \"M3\"\n",
    "        y = np.array(y.to_list())\n",
    "        y = y.reshape(y.size,)\n",
    "\n",
    "        mdl = LogisticRegression()\n",
    "        mdl = mdl.fit(x,y)\n",
    "\n",
    "        x = np.array(cloud(ref_dist, test_dist, k))\n",
    "        x = x.reshape(-1, 1)\n",
    "        y = samples.loc[test_ids, \"host\"] == \"M3\"\n",
    "        y = np.array(y.to_list())\n",
    "        y = y.reshape(y.size,)\n",
    "        probs = mdl.predict_proba(x)\n",
    "        preds = probs[:,1]\n",
    "        fpr, tpr, thres = metrics.roc_curve(y, preds)\n",
    "        roc_auc = metrics.auc(fpr, tpr)\n",
    "\n",
    "        axs[i-1, j-1].plot(fpr, tpr, 'b', label = 'AUC = %0.2f' % roc_auc)\n",
    "        axs[i-1, j-1].legend(loc = 'lower right')\n",
    "        axs[i-1, j-1].plot([0, 1], [0, 1],'r--')\n",
    "        axs[i-1, j-1].set_xlim([0, 1])\n",
    "        axs[i-1, j-1].set_xlim([0, 1])\n",
    "#         axs[i-1, j-1].set_ylabel(\"k = \" + str(size))\n",
    "        \n",
    "        sizes[i-1] = i * 0.1\n",
    "        ks [j-1] = j * 0.05\n",
    "        print(ref_dist.shape[0], i, j)\n",
    "\n",
    "for i in range(i_s):\n",
    "    axs[i, 0].set_ylabel(\"s = %0.2f\" % sizes[i])\n",
    "        \n",
    "for j in range(j_s):\n",
    "    axs[0, j].set_title(\"k = %0.2f\" % ks[j])"
   ]
  },
  {
   "cell_type": "code",
   "execution_count": null,
   "metadata": {},
   "outputs": [],
   "source": [
    " for ax in axs.flat:\n",
    "    ax.label_outer()\n",
    "\n",
    "fig.set_size_inches(20,20)\n",
    "fig.savefig('no_mean.png', bbox_inches='tight')"
   ]
  },
  {
   "cell_type": "markdown",
   "metadata": {},
   "source": [
    "# AUC for m3 vs f4"
   ]
  },
  {
   "cell_type": "code",
   "execution_count": null,
   "metadata": {},
   "outputs": [],
   "source": [
    "x = np.array(cloud(ref_dist, train_dist, 2))\n",
    "x = x.reshape(-1, 1)\n",
    "y = samples.loc[train_ids, \"host\"] == \"M3\"\n",
    "y = np.array(y.to_list())\n",
    "y = y.reshape(y.size,)\n",
    "\n",
    "mdl = LogisticRegression()\n",
    "mdl = mdl.fit(x,y)\n",
    "\n",
    "x = np.array(cloud(ref_dist, test_dist, 2))\n",
    "x = x.reshape(-1, 1)\n",
    "y = samples.loc[test_ids, \"host\"] == \"M3\"\n",
    "y = np.array(y.to_list())\n",
    "y = y.reshape(y.size,)\n",
    "probs = mdl.predict_proba(x)\n",
    "preds = probs[:,1]\n",
    "fpr, tpr, thres = metrics.roc_curve(y, preds)\n",
    "roc_auc = metrics.auc(fpr, tpr)\n",
    "\n",
    "plt.title('ROC m3 vs f4')\n",
    "plt.plot(fpr, tpr, 'b', label = 'AUC = %0.2f' % roc_auc)\n",
    "plt.legend(loc = 'lower right')\n",
    "plt.plot([0, 1], [0, 1],'r--')\n",
    "plt.xlim([0, 1])\n",
    "plt.ylim([0, 1])\n",
    "plt.ylabel('True Positive Rate')\n",
    "plt.xlabel('False Positive Rate')\n",
    "plt.show()"
   ]
  },
  {
   "cell_type": "markdown",
   "metadata": {},
   "source": [
    "# ref, train, test m3 gut vs f4 gut"
   ]
  },
  {
   "cell_type": "code",
   "execution_count": null,
   "metadata": {},
   "outputs": [],
   "source": [
    "ref_dist, train_dist, test_dist = get_ref_train_test(\n",
    "    distances,\n",
    "    samples,\n",
    "    lambda df: (df.host == \"M3\") & (df.env_package == \"human-gut\"),\n",
    "    lambda df: (df[\"env_package\"] == \"human-gut\")\n",
    ")\n",
    "train_ids = train_dist.columns.to_list()\n",
    "test_ids = test_dist.columns.to_list()"
   ]
  },
  {
   "cell_type": "markdown",
   "metadata": {},
   "source": [
    "# AUC for m3 gut vs f4 gut"
   ]
  },
  {
   "cell_type": "code",
   "execution_count": null,
   "metadata": {},
   "outputs": [],
   "source": [
    "x = np.array(cloud(ref_dist, train_dist, 8))\n",
    "x = x.reshape(-1, 1)\n",
    "y = samples.loc[train_ids, \"host\"] == \"M3\"\n",
    "y = np.array(y.to_list())\n",
    "y = y.reshape(y.size,)\n",
    "\n",
    "mdl = LogisticRegression()\n",
    "mdl = mdl.fit(x,y)\n",
    "\n",
    "x = np.array(cloud(ref_dist, test_dist, 8))\n",
    "x = x.reshape(-1, 1)\n",
    "y = samples.loc[test_ids, \"host\"] == \"M3\"\n",
    "y = np.array(y.to_list())\n",
    "y = y.reshape(y.size,)\n",
    "probs = mdl.predict_proba(x)\n",
    "preds = probs[:,1]\n",
    "fpr, tpr, thres = metrics.roc_curve(y, preds)\n",
    "roc_auc = metrics.auc(fpr, tpr)\n",
    "\n",
    "plt.title('ROC m3 gut vs f4 gut')\n",
    "plt.plot(fpr, tpr, 'b', label = 'AUC = %0.2f' % roc_auc)\n",
    "plt.legend(loc = 'lower right')\n",
    "plt.plot([0, 1], [0, 1],'r--')\n",
    "plt.xlim([0, 1])\n",
    "plt.ylim([0, 1])\n",
    "plt.ylabel('True Positive Rate')\n",
    "plt.xlabel('False Positive Rate')\n",
    "plt.show()"
   ]
  },
  {
   "cell_type": "markdown",
   "metadata": {},
   "source": [
    "# ref, train, test m3 skin vs f4 skin"
   ]
  },
  {
   "cell_type": "code",
   "execution_count": null,
   "metadata": {},
   "outputs": [],
   "source": [
    "ref_dist, train_dist, test_dist = get_ref_train_test(\n",
    "    distances,\n",
    "    samples,\n",
    "    lambda df: (df.host == \"M3\") & (df.env_package == \"human-skin\"),\n",
    "    lambda df: (df[\"env_package\"] == \"human-skin\")\n",
    ")\n",
    "train_ids = train_dist.columns.to_list()\n",
    "test_ids = test_dist.columns.to_list()"
   ]
  },
  {
   "cell_type": "code",
   "execution_count": null,
   "metadata": {},
   "outputs": [],
   "source": [
    "x = np.array(cloud(ref_dist, train_dist, 2))\n",
    "x = x.reshape(-1, 1)\n",
    "y = samples.loc[train_ids, \"host\"] == \"M3\"\n",
    "y = np.array(y.to_list())\n",
    "y = y.reshape(y.size,)\n",
    "\n",
    "mdl = LogisticRegression()\n",
    "mdl = mdl.fit(x,y)\n",
    "\n",
    "x = np.array(cloud(ref_dist, test_dist, 2))\n",
    "x = x.reshape(-1, 1)\n",
    "y = samples.loc[test_ids, \"host\"] == \"M3\"\n",
    "y = np.array(y.to_list())\n",
    "y = y.reshape(y.size,)\n",
    "probs = mdl.predict_proba(x)\n",
    "preds = probs[:,1]\n",
    "fpr, tpr, thres = metrics.roc_curve(y, preds)\n",
    "roc_auc = metrics.auc(fpr, tpr)\n",
    "\n",
    "plt.title('ROC m3 skin vs f4 skin')\n",
    "plt.plot(fpr, tpr, 'b', label = 'AUC = %0.2f' % roc_auc)\n",
    "plt.legend(loc = 'lower right')\n",
    "plt.plot([0, 1], [0, 1],'r--')\n",
    "plt.xlim([0, 1])\n",
    "plt.ylim([0, 1])\n",
    "plt.ylabel('True Positive Rate')\n",
    "plt.xlabel('False Positive Rate')\n",
    "plt.show()"
   ]
  },
  {
   "cell_type": "markdown",
   "metadata": {},
   "source": [
    "# ref, train, test m3 oral vs f4 oral"
   ]
  },
  {
   "cell_type": "code",
   "execution_count": null,
   "metadata": {},
   "outputs": [],
   "source": [
    "ref_dist, train_dist, test_dist = get_ref_train_test(\n",
    "    distances,\n",
    "    samples,\n",
    "    lambda df: (df.host == \"M3\") & (df.env_package == \"human-oral\"),\n",
    "    lambda df: (df[\"env_package\"] == \"human-oral\")\n",
    ")\n",
    "train_ids = train_dist.columns.to_list()\n",
    "test_ids = test_dist.columns.to_list()"
   ]
  },
  {
   "cell_type": "code",
   "execution_count": null,
   "metadata": {},
   "outputs": [],
   "source": [
    "x = np.array(cloud(ref_dist, train_dist, 61))\n",
    "x = x.reshape(-1, 1)\n",
    "y = samples.loc[train_ids, \"host\"] == \"M3\"\n",
    "y = np.array(y.to_list())\n",
    "y = y.reshape(y.size,)\n",
    "\n",
    "mdl = LogisticRegression()\n",
    "mdl = mdl.fit(x,y)\n",
    "\n",
    "x = np.array(cloud(ref_dist, test_dist, 61))\n",
    "x = x.reshape(-1, 1)\n",
    "y = samples.loc[test_ids, \"host\"] == \"M3\"\n",
    "y = np.array(y.to_list())\n",
    "y = y.reshape(y.size,)\n",
    "probs = mdl.predict_proba(x)\n",
    "preds = probs[:,1]\n",
    "fpr, tpr, thres = metrics.roc_curve(y, preds)\n",
    "roc_auc = metrics.auc(fpr, tpr)\n",
    "\n",
    "plt.title('ROC m3 oral vs f4 oral')\n",
    "plt.plot(fpr, tpr, 'b', label = 'AUC = %0.2f' % roc_auc)\n",
    "plt.legend(loc = 'lower right')\n",
    "plt.plot([0, 1], [0, 1],'r--')\n",
    "plt.xlim([0, 1])\n",
    "plt.ylim([0, 1])\n",
    "plt.ylabel('True Positive Rate')\n",
    "plt.xlabel('False Positive Rate')\n",
    "plt.show()"
   ]
  },
  {
   "cell_type": "code",
   "execution_count": null,
   "metadata": {},
   "outputs": [],
   "source": [
    "best_auc, best_k = (0,0)\n",
    "for k in range(1, len(train_ids)):\n",
    "    x = np.array(cloud(ref_dist, train_dist, k))\n",
    "    x = x.reshape(-1, 1)\n",
    "    y = samples.loc[train_ids, \"host\"] == \"M3\"\n",
    "    y = np.array(y.to_list())\n",
    "    y = y.reshape(y.size,)\n",
    "    \n",
    "    mdl = LogisticRegression()\n",
    "    mdl = mdl.fit(x,y)\n",
    "    \n",
    "    x = np.array(cloud(ref_dist, test_dist, k))\n",
    "    x = x.reshape(-1, 1)\n",
    "    y = samples.loc[test_ids, \"host\"] == \"M3\"\n",
    "    y = np.array(y.to_list())\n",
    "    y = y.reshape(y.size,)\n",
    "    probs = mdl.predict_proba(x)\n",
    "    preds = probs[:,1]\n",
    "    fpr, tpr, thres = metrics.roc_curve(y, preds)\n",
    "    roc_auc = metrics.auc(fpr, tpr)\n",
    "    if roc_auc > best_auc:\n",
    "        best_auc, best_k = roc_auc, k\n",
    "    print(roc_auc, \"better!\" if best_auc == roc_auc else \"\", k, len(train_ids))"
   ]
  },
  {
   "cell_type": "code",
   "execution_count": null,
   "metadata": {},
   "outputs": [],
   "source": []
  }
 ],
 "metadata": {
  "kernelspec": {
   "display_name": "Python 3",
   "language": "python",
   "name": "python3"
  },
  "language_info": {
   "codemirror_mode": {
    "name": "ipython",
    "version": 3
   },
   "file_extension": ".py",
   "mimetype": "text/x-python",
   "name": "python",
   "nbconvert_exporter": "python",
   "pygments_lexer": "ipython3",
   "version": "3.6.10"
  }
 },
 "nbformat": 4,
 "nbformat_minor": 4
}
